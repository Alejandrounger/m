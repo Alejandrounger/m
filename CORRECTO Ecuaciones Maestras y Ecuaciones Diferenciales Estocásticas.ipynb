{
  "metadata": {
    "kernelspec": {
      "name": "python",
      "display_name": "Python (Pyodide)",
      "language": "python"
    },
    "language_info": {
      "codemirror_mode": {
        "name": "python",
        "version": 3
      },
      "file_extension": ".py",
      "mimetype": "text/x-python",
      "name": "python",
      "nbconvert_exporter": "python",
      "pygments_lexer": "ipython3",
      "version": "3.8"
    }
  },
  "nbformat_minor": 4,
  "nbformat": 4,
  "cells": [
    {
      "cell_type": "code",
      "source": "#Proceso de Poisson\nimport numpy as np\nimport matplotlib.pyplot as plt\n\nlambda_rate = 3\nt_max = 100\ndt = 0.01\nnum_realizations = 10000\n\ndef poisson_process(lambda_rate, t_max, dt):\n    t = np.arange(0, t_max, dt)\n    n_t = np.zeros(len(t))\n    for i in range(1, len(t)):\n        if np.random.rand() < lambda_rate * dt:\n            n_t[i] = n_t[i-1] + 1\n        else:\n            n_t[i] = n_t[i-1]\n    return t, n_t\n\nresults = np.zeros((num_realizations, int(t_max/dt)))\nfor i in range(num_realizations):\n    t, n_t = poisson_process(lambda_rate, t_max, dt)\n    results[i] = n_t\n\ntimes_to_plot = [0, 25, 50, 75, 100]\nfor t_plot in times_to_plot:\n    idx = int(t_plot / dt)\n    plt.hist(results[:, idx], bins=30, alpha=0.7, label=f\"t = {t_plot} s\")\nplt.legend()\nplt.show()\n\nmean_n_t = np.mean(results, axis=0)\nvar_n_t = np.var(results, axis=0)\nplt.plot(t, mean_n_t)\nplt.plot(t, var_n_t)\nplt.show()\n",
      "metadata": {
        "trusted": true
      },
      "outputs": [],
      "execution_count": null
    },
    {
      "cell_type": "code",
      "source": "#Modelo SIR\nimport numpy as np\nimport matplotlib.pyplot as plt\n\nbeta = 0.04\nalpha = 0.01\nN = 1000\nt_max = 100\ndt = 0.01\nnum_realizations = 10000\n\ndef sir_model(beta, alpha, N, t_max, dt):\n    S, I, R = [int(0.99 * N)], [int(0.01 * N)], [0]\n    t = np.arange(0, t_max, dt)\n    \n    for _ in range(1, len(t)):\n        p_infect = beta * S[-1] * I[-1] / N\n        p_recover = alpha * I[-1]\n        \n        if np.random.rand() < p_infect * dt and S[-1] > 0:\n            S.append(S[-1] - 1)\n            I.append(I[-1] + 1)\n        else:\n            S.append(S[-1])\n            I.append(I[-1])\n        \n        if np.random.rand() < p_recover * dt and I[-1] > 0:\n            I[-1] -= 1\n            R.append(R[-1] + 1)\n        else:\n            R.append(R[-1])\n            \n    return t, S, I, R\n\nresults = [sir_model(beta, alpha, N, t_max, dt) for _ in range(num_realizations)]\n\n# Graficar una realización\nt, S, I, R = results[0]\nplt.plot(t, S, label=\"Susceptibles\")\nplt.plot(t, I, label=\"Infectados\")\nplt.plot(t, R, label=\"Recuperados\")\nplt.legend()\nplt.show()\n\n# Graficar múltiples realizaciones\nfor res in results[:50]:\n    t, S, I, R = res\n    plt.plot(t, I, alpha=0.3)\nplt.show()\n\n# Calcular y graficar el promedio\nmean_S = np.mean([res[1] for res in results], axis=0)\nmean_I = np.mean([res[2] for res in results], axis=0)\nmean_R = np.mean([res[3] for res in results], axis=0)\nplt.plot(t, mean_S, label=\"Promedio Susceptibles\")\nplt.plot(t, mean_I, label=\"Promedio Infectados\")\nplt.plot(t, mean_R, label=\"Promedio Recuperados\")\nplt.legend()\nplt.show()\n",
      "metadata": {
        "trusted": true
      },
      "outputs": [],
      "execution_count": null
    },
    {
      "cell_type": "code",
      "source": "#Proceso de Wiener \nimport numpy as np\nimport matplotlib.pyplot as plt\n\nt_max = 100\ndt = 0.01\nN = int(t_max / dt)\nnum_realizations = 500\n\ndef wiener_process(t_max, dt):\n    t = np.arange(0, t_max, dt)\n    W = np.zeros(len(t))\n    for i in range(1, len(t)):\n        W[i] = W[i-1] + np.random.normal(0, np.sqrt(dt))\n    return t, W\n\n# Realización del proceso de Wiener\nt, W = wiener_process(t_max, dt)\nplt.plot(t, W)\nplt.title(\"Proceso de Wiener, una realización\")\nplt.show()\n\n# Múltiples trayectorias\nfor _ in range(num_realizations):\n    t, W = wiener_process(t_max, dt)\n    plt.plot(t, W, alpha=0.1)\nplt.title(\"Proceso de Wiener, múltiples trayectorias\")\nplt.show()\n\n# Varianza del proceso de Wiener\nvar_W = [np.var(W[:i+1]) for i in range(len(W))]\nplt.plot(np.arange(len(var_W)) * dt, var_W)\nplt.title(\"Varianza del Proceso de Wiener\")\nplt.show()\n",
      "metadata": {
        "trusted": true
      },
      "outputs": [],
      "execution_count": null
    },
    {
      "cell_type": "code",
      "source": "#Proceso de Ornstein-Uhlenbeck \nimport numpy as np\nimport matplotlib.pyplot as plt\n\nk = 0.5\ng = 1.0\nt_max = 100\ndt = 0.01\nN = int(t_max / dt)\nnum_realizations = 100\n\ndef ornstein_uhlenbeck_process(k, g, t_max, dt):\n    t = np.arange(0, t_max, dt)\n    x = np.zeros(len(t))\n    for i in range(1, len(t)):\n        dx = -k * x[i-1] * dt + g * np.random.normal(0, np.sqrt(dt))\n        x[i] = x[i-1] + dx\n    return t, x\n\n# Simulación del proceso de Ornstein-Uhlenbeck\nfor _ in range(num_realizations):\n    t, x = ornstein_uhlenbeck_process(k, g, t_max, dt)\n    plt.plot(t, x, alpha=0.1)\nplt.title(\"Proceso de Ornstein-Uhlenbeck, trayectorias\")\nplt.show()\n\n# Cálculo de la media y varianza\nmean_x = np.mean(x)\nvar_x = np.var(x)\nprint(f\"Media: {mean_x}, Varianza: {var_x}\")\n",
      "metadata": {
        "trusted": true
      },
      "outputs": [],
      "execution_count": 1
    },
    {
      "cell_type": "code",
      "source": "",
      "metadata": {
        "trusted": true
      },
      "outputs": [],
      "execution_count": null
    }
  ]
}